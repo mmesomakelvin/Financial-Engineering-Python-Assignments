{
 "cells": [
  {
   "cell_type": "markdown",
   "id": "f43095d3-9dd2-441e-85bb-9709cba28603",
   "metadata": {},
   "source": [
    "# Exploiting Correlation\n",
    "\n",
    "Financial Data is meant not only to process data but to understand how meaningful\n",
    "factors can be used to summarize or represent the data. Let’s understand the role that\n",
    "correlation and principal components play."
   ]
  },
  {
   "cell_type": "code",
   "execution_count": 1,
   "id": "278b2a04-e555-4d56-8fc2-3a8bca79f7ca",
   "metadata": {},
   "outputs": [],
   "source": [
    "import numpy as np\n",
    "import pandas as pd\n",
    "import matplotlib.pyplot as plt\n",
    "from sklearn.decomposition import PCA\n",
    "import yfinance as yf"
   ]
  },
  {
   "cell_type": "markdown",
   "id": "2f329519-d301-40f6-a324-c1de173d5bda",
   "metadata": {},
   "source": [
    "## Generate 5 uncorrelated Gaussian random variables that simulate yield changes (they can be positive or negative with a mean close to 0 and a standard deviation that is small)."
   ]
  },
  {
   "cell_type": "code",
   "execution_count": 8,
   "id": "4faa72b6-b361-4a11-abf7-2d8101dff830",
   "metadata": {},
   "outputs": [
    {
     "data": {
      "text/html": [
       "<div>\n",
       "<style scoped>\n",
       "    .dataframe tbody tr th:only-of-type {\n",
       "        vertical-align: middle;\n",
       "    }\n",
       "\n",
       "    .dataframe tbody tr th {\n",
       "        vertical-align: top;\n",
       "    }\n",
       "\n",
       "    .dataframe thead th {\n",
       "        text-align: right;\n",
       "    }\n",
       "</style>\n",
       "<table border=\"1\" class=\"dataframe\">\n",
       "  <thead>\n",
       "    <tr style=\"text-align: right;\">\n",
       "      <th></th>\n",
       "      <th>Var1</th>\n",
       "      <th>Var2</th>\n",
       "      <th>Var3</th>\n",
       "      <th>Var4</th>\n",
       "      <th>Var5</th>\n",
       "    </tr>\n",
       "  </thead>\n",
       "  <tbody>\n",
       "    <tr>\n",
       "      <th>0</th>\n",
       "      <td>0.024836</td>\n",
       "      <td>-0.006913</td>\n",
       "      <td>0.032384</td>\n",
       "      <td>0.076151</td>\n",
       "      <td>-0.011708</td>\n",
       "    </tr>\n",
       "    <tr>\n",
       "      <th>1</th>\n",
       "      <td>-0.011707</td>\n",
       "      <td>0.078961</td>\n",
       "      <td>0.038372</td>\n",
       "      <td>-0.023474</td>\n",
       "      <td>0.027128</td>\n",
       "    </tr>\n",
       "    <tr>\n",
       "      <th>2</th>\n",
       "      <td>-0.023171</td>\n",
       "      <td>-0.023286</td>\n",
       "      <td>0.012098</td>\n",
       "      <td>-0.095664</td>\n",
       "      <td>-0.086246</td>\n",
       "    </tr>\n",
       "    <tr>\n",
       "      <th>3</th>\n",
       "      <td>-0.028114</td>\n",
       "      <td>-0.050642</td>\n",
       "      <td>0.015712</td>\n",
       "      <td>-0.045401</td>\n",
       "      <td>-0.070615</td>\n",
       "    </tr>\n",
       "    <tr>\n",
       "      <th>4</th>\n",
       "      <td>0.073282</td>\n",
       "      <td>-0.011289</td>\n",
       "      <td>0.003376</td>\n",
       "      <td>-0.071237</td>\n",
       "      <td>-0.027219</td>\n",
       "    </tr>\n",
       "  </tbody>\n",
       "</table>\n",
       "</div>"
      ],
      "text/plain": [
       "       Var1      Var2      Var3      Var4      Var5\n",
       "0  0.024836 -0.006913  0.032384  0.076151 -0.011708\n",
       "1 -0.011707  0.078961  0.038372 -0.023474  0.027128\n",
       "2 -0.023171 -0.023286  0.012098 -0.095664 -0.086246\n",
       "3 -0.028114 -0.050642  0.015712 -0.045401 -0.070615\n",
       "4  0.073282 -0.011289  0.003376 -0.071237 -0.027219"
      ]
     },
     "execution_count": 8,
     "metadata": {},
     "output_type": "execute_result"
    }
   ],
   "source": [
    "np.random.seed(42)\n",
    "n_obs = 126  # About 6 months of trading days\n",
    "means = np.zeros(5)\n",
    "stds = np.full(5, 0.05)  # Small standard deviation\n",
    "uncorr_data = np.random.normal(loc=means, scale=stds, size=(n_obs, 5))\n",
    "uncorr_df = pd.DataFrame(uncorr_data, columns=[f'Var{i+1}' for i in range(5)])\n",
    "uncorr_df.head()"
   ]
  },
  {
   "cell_type": "markdown",
   "id": "43877d6a-7bda-4b9d-a15e-9c86dba9be74",
   "metadata": {},
   "source": [
    "## Run a Principal Components using EITHER the correlation OR covariance matrix."
   ]
  },
  {
   "cell_type": "code",
   "execution_count": 12,
   "id": "16b33d7b-333d-4a7b-b42a-e486e2ad7684",
   "metadata": {},
   "outputs": [],
   "source": [
    "pca_uncorr = PCA()\n",
    "pca_uncorr.fit(uncorr_df)\n",
    "explained_var_ratio_uncorr = pca_uncorr.explained_variance_ratio_\n"
   ]
  },
  {
   "cell_type": "markdown",
   "id": "ffb4e21f-ab73-49b1-8338-8088f1fc81bb",
   "metadata": {},
   "source": [
    "## Write a paragraph explaining how the variances of each component compare with each other. In this paragraph, you will address the following question: how much variance is explained by Component 1, Component 2, Component 3?\n",
    "\n",
    "Because the variables are uncorrelated and have equal variance, each principal component explains about 20% of the total variance. There is no dominant component, which is what you expect with uncorrelated random data."
   ]
  },
  {
   "cell_type": "code",
   "execution_count": 13,
   "id": "f0c8a068-b4f4-4bba-a2ce-240b5992a689",
   "metadata": {},
   "outputs": [
    {
     "name": "stdout",
     "output_type": "stream",
     "text": [
      "Variance explained by each principal component (Uncorrelated Data):\n",
      "Component 1: 26.73%\n",
      "Component 2: 22.13%\n",
      "Component 3: 18.23%\n",
      "Component 4: 18.06%\n",
      "Component 5: 14.84%\n",
      "Total: 100.00%\n"
     ]
    }
   ],
   "source": [
    "print(\"Variance explained by each principal component (Uncorrelated Data):\")\n",
    "for i, var in enumerate(explained_var_ratio_uncorr):\n",
    "    print(f\"Component {i+1}: {var:.2%}\")\n",
    "print(f\"Total: {explained_var_ratio_uncorr.sum():.2%}\")\n"
   ]
  },
  {
   "cell_type": "markdown",
   "id": "cab2c876-f6ef-4f17-8636-fcd2f68dc443",
   "metadata": {},
   "source": [
    "## . Produce a screeplot of the variance explained for each component.\n"
   ]
  },
  {
   "cell_type": "code",
   "execution_count": 14,
   "id": "aa042ddc-679a-480a-a2ba-541d94b2c229",
   "metadata": {},
   "outputs": [
    {
     "data": {
      "image/png": "[encoded data removed]",
      "text/plain": [
       "<Figure size 600x400 with 1 Axes>"
      ]
     },
     "metadata": {},
     "output_type": "display_data"
    }
   ],
   "source": [
    "plt.figure(figsize=(6,4))\n",
    "plt.bar(range(1, 6), explained_var_ratio_uncorr*100)\n",
    "plt.xlabel('Principal Component')\n",
    "plt.ylabel('Variance Explained (%)')\n",
    "plt.title('Scree Plot - Uncorrelated Data')\n",
    "plt.show()\n"
   ]
  },
  {
   "cell_type": "markdown",
   "id": "f5663325-cb26-46fe-a3dc-ac82b6f275a4",
   "metadata": {},
   "source": [
    "## Collect the daily closing yields for 5 government securities, say over 6 months."
   ]
  },
  {
   "cell_type": "code",
   "execution_count": 15,
   "id": "b2cf36e4-b753-4d6a-a5fb-6877b4231b55",
   "metadata": {},
   "outputs": [
    {
     "name": "stderr",
     "output_type": "stream",
     "text": [
      "C:\\Users\\okoro\\AppData\\Local\\Temp\\ipykernel_19172\\4233754860.py:3: FutureWarning: YF.download() has changed argument auto_adjust default to True\n",
      "  data = yf.download(tickers, start='2024-01-01', end='2024-06-30')['Close']\n",
      "[*********************100%***********************]  4 of 4 completed"
     ]
    },
    {
     "name": "stdout",
     "output_type": "stream",
     "text": [
      "Columns from Yahoo Finance: ['^FVX', '^IRX', '^TNX', '^TYX']\n"
     ]
    },
    {
     "name": "stderr",
     "output_type": "stream",
     "text": [
      "\n"
     ]
    },
    {
     "data": {
      "text/html": [
       "<div>\n",
       "<style scoped>\n",
       "    .dataframe tbody tr th:only-of-type {\n",
       "        vertical-align: middle;\n",
       "    }\n",
       "\n",
       "    .dataframe tbody tr th {\n",
       "        vertical-align: top;\n",
       "    }\n",
       "\n",
       "    .dataframe thead th {\n",
       "        text-align: right;\n",
       "    }\n",
       "</style>\n",
       "<table border=\"1\" class=\"dataframe\">\n",
       "  <thead>\n",
       "    <tr style=\"text-align: right;\">\n",
       "      <th></th>\n",
       "      <th>3M</th>\n",
       "      <th>5Y</th>\n",
       "      <th>10Y</th>\n",
       "      <th>30Y</th>\n",
       "    </tr>\n",
       "    <tr>\n",
       "      <th>Date</th>\n",
       "      <th></th>\n",
       "      <th></th>\n",
       "      <th></th>\n",
       "      <th></th>\n",
       "    </tr>\n",
       "  </thead>\n",
       "  <tbody>\n",
       "    <tr>\n",
       "      <th>2024-01-02</th>\n",
       "      <td>3.926</td>\n",
       "      <td>5.213</td>\n",
       "      <td>3.946</td>\n",
       "      <td>4.085</td>\n",
       "    </tr>\n",
       "    <tr>\n",
       "      <th>2024-01-03</th>\n",
       "      <td>3.891</td>\n",
       "      <td>5.235</td>\n",
       "      <td>3.907</td>\n",
       "      <td>4.056</td>\n",
       "    </tr>\n",
       "    <tr>\n",
       "      <th>2024-01-04</th>\n",
       "      <td>3.973</td>\n",
       "      <td>5.228</td>\n",
       "      <td>3.991</td>\n",
       "      <td>4.137</td>\n",
       "    </tr>\n",
       "    <tr>\n",
       "      <th>2024-01-05</th>\n",
       "      <td>4.008</td>\n",
       "      <td>5.220</td>\n",
       "      <td>4.042</td>\n",
       "      <td>4.200</td>\n",
       "    </tr>\n",
       "    <tr>\n",
       "      <th>2024-01-08</th>\n",
       "      <td>3.956</td>\n",
       "      <td>5.220</td>\n",
       "      <td>4.002</td>\n",
       "      <td>4.173</td>\n",
       "    </tr>\n",
       "  </tbody>\n",
       "</table>\n",
       "</div>"
      ],
      "text/plain": [
       "               3M     5Y    10Y    30Y\n",
       "Date                                  \n",
       "2024-01-02  3.926  5.213  3.946  4.085\n",
       "2024-01-03  3.891  5.235  3.907  4.056\n",
       "2024-01-04  3.973  5.228  3.991  4.137\n",
       "2024-01-05  4.008  5.220  4.042  4.200\n",
       "2024-01-08  3.956  5.220  4.002  4.173"
      ]
     },
     "execution_count": 15,
     "metadata": {},
     "output_type": "execute_result"
    }
   ],
   "source": [
    "# Tickers for US Treasury Yields. For Hong Kong, substitute with available HK tickers if needed.\n",
    "tickers = ['^IRX', '^FVX', '^TNX', '^TYX']\n",
    "data = yf.download(tickers, start='2024-01-01', end='2024-06-30')['Close']\n",
    "data = data.dropna()\n",
    "\n",
    "# Print what you received:\n",
    "print(\"Columns from Yahoo Finance:\", list(data.columns))\n",
    "\n",
    "# Assign column names based on what you have:\n",
    "col_names = ['3M', '5Y', '10Y', '30Y']\n",
    "data.columns = col_names[:len(data.columns)]  # Only as many as you have\n",
    "\n",
    "data.head()\n"
   ]
  },
  {
   "cell_type": "markdown",
   "id": "9e7699ec-b671-4083-ba6e-b736ff7884c8",
   "metadata": {},
   "source": [
    "## compute the daily yield changes!"
   ]
  },
  {
   "cell_type": "code",
   "execution_count": 16,
   "id": "38576227-036a-4dd4-9523-d4c0db91d5b5",
   "metadata": {},
   "outputs": [
    {
     "data": {
      "text/html": [
       "<div>\n",
       "<style scoped>\n",
       "    .dataframe tbody tr th:only-of-type {\n",
       "        vertical-align: middle;\n",
       "    }\n",
       "\n",
       "    .dataframe tbody tr th {\n",
       "        vertical-align: top;\n",
       "    }\n",
       "\n",
       "    .dataframe thead th {\n",
       "        text-align: right;\n",
       "    }\n",
       "</style>\n",
       "<table border=\"1\" class=\"dataframe\">\n",
       "  <thead>\n",
       "    <tr style=\"text-align: right;\">\n",
       "      <th></th>\n",
       "      <th>3M</th>\n",
       "      <th>5Y</th>\n",
       "      <th>10Y</th>\n",
       "      <th>30Y</th>\n",
       "    </tr>\n",
       "    <tr>\n",
       "      <th>Date</th>\n",
       "      <th></th>\n",
       "      <th></th>\n",
       "      <th></th>\n",
       "      <th></th>\n",
       "    </tr>\n",
       "  </thead>\n",
       "  <tbody>\n",
       "    <tr>\n",
       "      <th>2024-01-03</th>\n",
       "      <td>-0.035</td>\n",
       "      <td>0.022</td>\n",
       "      <td>-0.039</td>\n",
       "      <td>-0.029</td>\n",
       "    </tr>\n",
       "    <tr>\n",
       "      <th>2024-01-04</th>\n",
       "      <td>0.082</td>\n",
       "      <td>-0.007</td>\n",
       "      <td>0.084</td>\n",
       "      <td>0.081</td>\n",
       "    </tr>\n",
       "    <tr>\n",
       "      <th>2024-01-05</th>\n",
       "      <td>0.035</td>\n",
       "      <td>-0.008</td>\n",
       "      <td>0.051</td>\n",
       "      <td>0.063</td>\n",
       "    </tr>\n",
       "    <tr>\n",
       "      <th>2024-01-08</th>\n",
       "      <td>-0.052</td>\n",
       "      <td>0.000</td>\n",
       "      <td>-0.040</td>\n",
       "      <td>-0.027</td>\n",
       "    </tr>\n",
       "    <tr>\n",
       "      <th>2024-01-09</th>\n",
       "      <td>0.023</td>\n",
       "      <td>0.010</td>\n",
       "      <td>0.017</td>\n",
       "      <td>0.012</td>\n",
       "    </tr>\n",
       "  </tbody>\n",
       "</table>\n",
       "</div>"
      ],
      "text/plain": [
       "               3M     5Y    10Y    30Y\n",
       "Date                                  \n",
       "2024-01-03 -0.035  0.022 -0.039 -0.029\n",
       "2024-01-04  0.082 -0.007  0.084  0.081\n",
       "2024-01-05  0.035 -0.008  0.051  0.063\n",
       "2024-01-08 -0.052  0.000 -0.040 -0.027\n",
       "2024-01-09  0.023  0.010  0.017  0.012"
      ]
     },
     "execution_count": 16,
     "metadata": {},
     "output_type": "execute_result"
    }
   ],
   "source": [
    "yield_changes = data.diff().dropna()\n",
    "yield_changes.head()\n"
   ]
  },
  {
   "cell_type": "markdown",
   "id": "323a1472-0061-4d4a-bdf1-4a04971bda59",
   "metadata": {},
   "source": [
    "## Re-run the Principal Components using EITHER the correlation or covariance matrix."
   ]
  },
  {
   "cell_type": "code",
   "execution_count": 17,
   "id": "0fced6fd-72a7-497c-b98d-b70d80e0d9dc",
   "metadata": {},
   "outputs": [],
   "source": [
    "pca_real = PCA()\n",
    "pca_real.fit(yield_changes)\n",
    "explained_var_ratio_real = pca_real.explained_variance_ratio_\n"
   ]
  },
  {
   "cell_type": "markdown",
   "id": "16b4c34b-58c8-4e12-82b9-6a9a3eb3a1a6",
   "metadata": {},
   "source": [
    "## How do the variances of each component compare? In other words, how much variance is explained by Component 1, Component 2, Component 3, etc.?"
   ]
  },
  {
   "cell_type": "code",
   "execution_count": 18,
   "id": "6897df6a-9f4b-4504-bcad-3b67bcec17af",
   "metadata": {},
   "outputs": [
    {
     "name": "stdout",
     "output_type": "stream",
     "text": [
      "Variance explained by each principal component (Real Yield Data):\n",
      "Component 1: 95.87%\n",
      "Component 2: 3.65%\n",
      "Component 3: 0.42%\n",
      "Component 4: 0.06%\n",
      "Total: 100.00%\n"
     ]
    }
   ],
   "source": [
    "print(\"Variance explained by each principal component (Real Yield Data):\")\n",
    "for i, var in enumerate(explained_var_ratio_real):\n",
    "    print(f\"Component {i+1}: {var:.2%}\")\n",
    "print(f\"Total: {explained_var_ratio_real.sum():.2%}\")\n"
   ]
  },
  {
   "cell_type": "markdown",
   "id": "ef9706a0-0f71-42b2-ba69-48e379459fc5",
   "metadata": {},
   "source": [
    "## . Produce a screeplot of the variance explained for each component."
   ]
  },
  {
   "cell_type": "code",
   "execution_count": 19,
   "id": "9db1bdc6-638b-44ac-84bc-4ae97001f103",
   "metadata": {},
   "outputs": [
    {
     "data": {
      "image/png": "[encoded data removed]",
      "text/plain": [
       "<Figure size 600x400 with 1 Axes>"
      ]
     },
     "metadata": {},
     "output_type": "display_data"
    }
   ],
   "source": [
    "plt.figure(figsize=(6,4))\n",
    "plt.bar(range(1, len(explained_var_ratio_real)+1), explained_var_ratio_real*100)\n",
    "plt.xlabel('Principal Component')\n",
    "plt.ylabel('Variance Explained (%)')\n",
    "plt.title('Scree Plot - Real Yield Data')\n",
    "plt.show()\n"
   ]
  },
  {
   "cell_type": "markdown",
   "id": "e5f3ad44-480d-40b6-8978-9bba7f1cf21b",
   "metadata": {},
   "source": [
    "# Comparison of Screeplots: Uncorrelated Data vs Government Yield Data\n",
    "\n",
    "The screeplot for the uncorrelated is relatively flat. Each principal component (bar) explains a similar amount of variance (ranging from about 15% to 27%). This indicates that no single component dominates; the variance is distributed almost evenly across all five components. This is exactly what we expect with randomly generated, uncorrelated data.\n",
    "\n",
    "The screeplot for the government yield data is very steep. The first principal component explains nearly all the variance (almost 96%), while the remaining components contribute very little (less than 5% combined). This means most of the yield changes in the different bonds move together due to a common underlying factor."
   ]
  },
  {
   "cell_type": "code",
   "execution_count": null,
   "id": "c0bb2682-bb88-4d21-b24b-5346d35ba048",
   "metadata": {},
   "outputs": [],
   "source": []
  }
 ],
 "metadata": {
  "kernelspec": {
   "display_name": "Python 3 (ipykernel)",
   "language": "python",
   "name": "python3"
  },
  "language_info": {
   "codemirror_mode": {
    "name": "ipython",
    "version": 3
   },
   "file_extension": ".py",
   "mimetype": "text/x-python",
   "name": "python",
   "nbconvert_exporter": "python",
   "pygments_lexer": "ipython3",
   "version": "3.12.7"
  }
 },
 "nbformat": 4,
 "nbformat_minor": 5
}
